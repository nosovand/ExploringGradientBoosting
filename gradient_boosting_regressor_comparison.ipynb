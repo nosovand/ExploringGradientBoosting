{
 "cells": [
  {
   "cell_type": "markdown",
   "metadata": {},
   "source": [
    "## Compare the performance of the scikit and the custom decision tree regressors\n",
    "\n",
    "Tested on the scikit Diabetes toy dataset."
   ]
  },
  {
   "cell_type": "markdown",
   "metadata": {},
   "source": [
    "## Import of the dataset"
   ]
  },
  {
   "cell_type": "code",
   "execution_count": 1,
   "metadata": {},
   "outputs": [
    {
     "name": "stdout",
     "output_type": "stream",
     "text": [
      "        age       sex       bmi        bp        s1        s2        s3  \\\n",
      "0  0.038076  0.050680  0.061696  0.021872 -0.044223 -0.034821 -0.043401   \n",
      "1 -0.001882 -0.044642 -0.051474 -0.026328 -0.008449 -0.019163  0.074412   \n",
      "2  0.085299  0.050680  0.044451 -0.005670 -0.045599 -0.034194 -0.032356   \n",
      "3 -0.089063 -0.044642 -0.011595 -0.036656  0.012191  0.024991 -0.036038   \n",
      "4  0.005383 -0.044642 -0.036385  0.021872  0.003935  0.015596  0.008142   \n",
      "\n",
      "         s4        s5        s6  \n",
      "0 -0.002592  0.019907 -0.017646  \n",
      "1 -0.039493 -0.068332 -0.092204  \n",
      "2 -0.002592  0.002861 -0.025930  \n",
      "3  0.034309  0.022688 -0.009362  \n",
      "4 -0.002592 -0.031988 -0.046641  \n",
      "0    151.0\n",
      "1     75.0\n",
      "2    141.0\n",
      "3    206.0\n",
      "4    135.0\n",
      "Name: 0, dtype: float64\n"
     ]
    }
   ],
   "source": [
    "from sklearn.datasets import load_diabetes\n",
    "import pandas as pd\n",
    "import numpy as np\n",
    "\n",
    "data = load_diabetes()\n",
    "x = pd.DataFrame(data.data, columns = data.feature_names)\n",
    "y = pd.DataFrame(data.target)\n",
    "y = y.iloc[:,0]\n",
    "\n",
    "print(x.head())\n",
    "print(y[:5])\n"
   ]
  },
  {
   "cell_type": "markdown",
   "metadata": {},
   "source": [
    "## Split the dataset into training and testing sets"
   ]
  },
  {
   "cell_type": "code",
   "execution_count": 2,
   "metadata": {},
   "outputs": [],
   "source": [
    "#split the dataset\n",
    "\n",
    "from sklearn.model_selection import train_test_split\n",
    "\n",
    "x_train, x_test, y_train, y_test = train_test_split(x, y, test_size = 0.2, random_state = 42)"
   ]
  },
  {
   "cell_type": "markdown",
   "metadata": {},
   "source": [
    "# Comparison of the performance of the tree classifiers\n",
    "### 1) Compare on predefined parameters"
   ]
  },
  {
   "cell_type": "code",
   "execution_count": 15,
   "metadata": {},
   "outputs": [
    {
     "name": "stdout",
     "output_type": "stream",
     "text": [
      "Tree Regressor Comparison for overfit parameters\n",
      "------------------------------------------------------\n",
      "Scikit-learn model accuracy on test data:         0.06\n",
      "Scikit-learn model accuracy on training data:     1.00\n",
      "Custom model accuracy on test data:               -0.05\n",
      "Custom model accuracy on training data:           1.00\n"
     ]
    }
   ],
   "source": [
    "from sklearn.tree import DecisionTreeRegressor\n",
    "from tree import CustomDecisionTreeRegressor\n",
    "\n",
    "print(\"Tree Regressor Comparison for overfit parameters\")\n",
    "print(\"------------------------------------------------------\")\n",
    "\n",
    "# Default tree (no specified parameters)\n",
    "scikit_model = DecisionTreeRegressor(max_depth=100, random_state=42)\n",
    "scikit_model.fit(x_train, y_train)\n",
    "scikit_score = scikit_model.score(x_test, y_test)\n",
    "print(\"Scikit-learn model accuracy on test data:        \", \"{:.2f}\".format(scikit_score))\n",
    "scikit_train_score = scikit_model.score(x_train, y_train)\n",
    "print(\"Scikit-learn model accuracy on training data:    \", \"{:.2f}\".format(scikit_train_score))\n",
    "\n",
    "# Custom tree (no specified parameters)\n",
    "custom_model = CustomDecisionTreeRegressor(max_depth=100)\n",
    "custom_model.fit(x_train, y_train)\n",
    "custom_score = custom_model.score(x_test, y_test)\n",
    "print(\"Custom model accuracy on test data:              \", \"{:.2f}\".format(custom_score))\n",
    "custom_train_score = custom_model.score(x_train, y_train)\n",
    "print(\"Custom model accuracy on training data:          \", \"{:.2f}\".format(custom_train_score))\n"
   ]
  },
  {
   "cell_type": "code",
   "execution_count": 4,
   "metadata": {},
   "outputs": [
    {
     "name": "stdout",
     "output_type": "stream",
     "text": [
      "Tree Regressor Comparison for random parameters\n",
      "------------------------------------------------------\n",
      "max_depth=3, min_samples_split=4, min_samples_leaf=5\n",
      "------------------------------------------------------\n",
      "Scikit-learn model accuracy on test data:         0.42\n",
      "Scikit-learn model accuracy on training data:     0.52\n",
      "Custom model accuracy on test data:               0.41\n",
      "Custom model accuracy on training data:           0.52\n"
     ]
    }
   ],
   "source": [
    "print(\"Tree Regressor Comparison for random parameters\")\n",
    "print(\"------------------------------------------------------\")\n",
    "print(\"max_depth=3, min_samples_split=4, min_samples_leaf=5\")\n",
    "print(\"------------------------------------------------------\")\n",
    "\n",
    "# Default tree (specified parameters)\n",
    "scikit_model = DecisionTreeRegressor(max_depth=3, min_samples_split=4, min_samples_leaf=5, random_state=42)\n",
    "scikit_model.fit(x_train, y_train)\n",
    "scikit_score = scikit_model.score(x_test, y_test)\n",
    "print(\"Scikit-learn model accuracy on test data:        \", \"{:.2f}\".format(scikit_score))\n",
    "scikit_train_score = scikit_model.score(x_train, y_train)\n",
    "print(\"Scikit-learn model accuracy on training data:    \", \"{:.2f}\".format(scikit_train_score))\n",
    "\n",
    "# Custom tree (specified parameters)\n",
    "custom_model = CustomDecisionTreeRegressor(max_depth=3, min_samples_split=4, min_samples_leaf=5)\n",
    "custom_model.fit(x_train, y_train)\n",
    "custom_score = custom_model.score(x_test, y_test)\n",
    "print(\"Custom model accuracy on test data:              \", \"{:.2f}\".format(custom_score))\n",
    "custom_train_score = custom_model.score(x_train, y_train)\n",
    "print(\"Custom model accuracy on training data:          \", \"{:.2f}\".format(custom_train_score))\n"
   ]
  },
  {
   "cell_type": "markdown",
   "metadata": {},
   "source": [
    "### 2) Compare on the best parameters obtained by hyperparameter tuning"
   ]
  },
  {
   "cell_type": "markdown",
   "metadata": {},
   "source": [
    "#### Hyperparameter space"
   ]
  },
  {
   "cell_type": "code",
   "execution_count": 5,
   "metadata": {},
   "outputs": [
    {
     "name": "stdout",
     "output_type": "stream",
     "text": [
      "{'max_depth': [1, 3, 5, 7, 9, 11, 13, 15, 17, 19, 21, 23, 25, 27, 29, 31], 'min_samples_split': [2, 4, 6, 8, 10, 12, 14, 16, 18, 20, 22, 24, 26, 28, 30], 'min_samples_leaf': [1, 3, 5, 7, 9, 11, 13, 15, 17, 19, 21, 23, 25, 27, 29, 31]}\n"
     ]
    }
   ],
   "source": [
    "params = dict()\n",
    "# max depth list from 1 to 20\n",
    "params['max_depth'] = list(range(1, 32, 2))\n",
    "params['min_samples_split'] = list(range(2, 31, 2))\n",
    "params['min_samples_leaf'] = list(range(1, 32, 2))\n",
    "print(params)"
   ]
  },
  {
   "cell_type": "markdown",
   "metadata": {},
   "source": [
    "#### K-Fold Cross Validation"
   ]
  },
  {
   "cell_type": "code",
   "execution_count": 6,
   "metadata": {},
   "outputs": [],
   "source": [
    "from sklearn.model_selection import cross_val_score, KFold\n",
    "\n",
    "cv = KFold(n_splits=5, shuffle=True)"
   ]
  },
  {
   "cell_type": "markdown",
   "metadata": {},
   "source": [
    "#### Initialize Optimizer"
   ]
  },
  {
   "cell_type": "code",
   "execution_count": 7,
   "metadata": {},
   "outputs": [],
   "source": [
    "from sklearn.model_selection import GridSearchCV\n",
    "from fast_parameter_search import MyGridSearchCV\n",
    "\n",
    "scikit_clf = DecisionTreeRegressor(random_state=42)\n",
    "# add random state to make the results reproducible\n",
    "scikit_params = params.copy()\n",
    "scikit_params['random_state'] = [42]\n",
    "scikit_search = GridSearchCV(estimator=scikit_clf, param_grid=scikit_params, cv=cv, scoring='r2', verbose=0, n_jobs=-1)\n",
    "\n",
    "custom_clf = CustomDecisionTreeRegressor()\n",
    "\n",
    "custom_search = MyGridSearchCV(custom_clf, params, cv=cv, n_jobs=-1)"
   ]
  },
  {
   "cell_type": "markdown",
   "metadata": {},
   "source": [
    "#### Results"
   ]
  },
  {
   "cell_type": "code",
   "execution_count": 8,
   "metadata": {},
   "outputs": [
    {
     "name": "stdout",
     "output_type": "stream",
     "text": [
      "Scikit Learn Decision Tree\n",
      "Best score 0.349680634322731\n",
      "Best parameters {'max_depth': 5, 'min_samples_leaf': 29, 'min_samples_split': 2, 'random_state': 42}\n",
      "Custom Decision Tree\n",
      "Best score 0.4151344416660413\n",
      "Best parameters {'max_depth': 23, 'min_samples_split': 14, 'min_samples_leaf': 21}\n"
     ]
    }
   ],
   "source": [
    "#Scikit Learn Decision Tree\n",
    "scikit_search.fit(x_train, y_train)\n",
    "print(\"Scikit Learn Decision Tree\")\n",
    "print(\"Best score\", scikit_search.best_score_)\n",
    "print(\"Best parameters\", scikit_search.best_params_)\n",
    "\n",
    "# Custom Decision Tree\n",
    "custom_search.fit(x_train, y_train)\n",
    "print(\"Custom Decision Tree\")\n",
    "print(\"Best score\", custom_search.best_score)\n",
    "print(\"Best parameters\", custom_search.best_params)"
   ]
  },
  {
   "cell_type": "code",
   "execution_count": 9,
   "metadata": {},
   "outputs": [
    {
     "name": "stdout",
     "output_type": "stream",
     "text": [
      "Tree Regressor Comparison for best parameters\n",
      "------------------------------------------------------\n",
      "Scikit-learn model r2 score on test data:         0.43\n",
      "Custom model r2 score on test data:               0.41\n"
     ]
    }
   ],
   "source": [
    "from sklearn.metrics import r2_score\n",
    "\n",
    "best_scikit_model = scikit_search.best_estimator_\n",
    "best_scikit_model.fit(x_train, y_train)\n",
    "y_pred_scikit = best_scikit_model.predict(x_test)\n",
    "scikit_accuracy = r2_score(y_test, y_pred_scikit)\n",
    "\n",
    "best_custom_model = custom_search.best_estimator\n",
    "best_custom_model = CustomDecisionTreeRegressor(max_depth=best_scikit_model.max_depth, min_samples_split=best_scikit_model.min_samples_split, min_samples_leaf=best_scikit_model.min_samples_leaf)\n",
    "best_custom_model.fit(x_train, y_train)\n",
    "y_pred_custom = best_custom_model.predict(x_test)\n",
    "custom_accuracy = r2_score(y_test, y_pred_custom)\n",
    "custom_accuracy = custom_model.score(x_test, y_test)\n",
    "\n",
    "print(\"Tree Regressor Comparison for best parameters\")\n",
    "print(\"------------------------------------------------------\")\n",
    "print(\"Scikit-learn model r2 score on test data:        \", \"{:.2f}\".format(scikit_accuracy))\n",
    "print(\"Custom model r2 score on test data:              \", \"{:.2f}\".format(custom_accuracy))\n",
    "\n"
   ]
  }
 ],
 "metadata": {
  "language_info": {
   "name": "python"
  }
 },
 "nbformat": 4,
 "nbformat_minor": 2
}
