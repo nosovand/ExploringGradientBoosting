{
 "cells": [
  {
   "cell_type": "markdown",
   "metadata": {},
   "source": [
    "## Compare the performance of the scikit and the custom decision tree regressors\n",
    "\n",
    "Tested on the scikit Diabetes toy dataset."
   ]
  },
  {
   "cell_type": "markdown",
   "metadata": {},
   "source": [
    "## Import of the dataset"
   ]
  },
  {
   "cell_type": "code",
   "execution_count": 1,
   "metadata": {},
   "outputs": [
    {
     "name": "stdout",
     "output_type": "stream",
     "text": [
      "        age       sex       bmi        bp        s1        s2        s3  \\\n",
      "0  0.038076  0.050680  0.061696  0.021872 -0.044223 -0.034821 -0.043401   \n",
      "1 -0.001882 -0.044642 -0.051474 -0.026328 -0.008449 -0.019163  0.074412   \n",
      "2  0.085299  0.050680  0.044451 -0.005670 -0.045599 -0.034194 -0.032356   \n",
      "3 -0.089063 -0.044642 -0.011595 -0.036656  0.012191  0.024991 -0.036038   \n",
      "4  0.005383 -0.044642 -0.036385  0.021872  0.003935  0.015596  0.008142   \n",
      "\n",
      "         s4        s5        s6  \n",
      "0 -0.002592  0.019907 -0.017646  \n",
      "1 -0.039493 -0.068332 -0.092204  \n",
      "2 -0.002592  0.002861 -0.025930  \n",
      "3  0.034309  0.022688 -0.009362  \n",
      "4 -0.002592 -0.031988 -0.046641  \n",
      "0    151.0\n",
      "1     75.0\n",
      "2    141.0\n",
      "3    206.0\n",
      "4    135.0\n",
      "Name: 0, dtype: float64\n"
     ]
    }
   ],
   "source": [
    "from sklearn.datasets import load_diabetes\n",
    "import pandas as pd\n",
    "import numpy as np\n",
    "\n",
    "# Iris dataset contains 3 classes and 4 features\n",
    "data = load_diabetes()\n",
    "#convert to a dataframe\n",
    "x = pd.DataFrame(data.data, columns = data.feature_names)\n",
    "#create the species column\n",
    "y = pd.DataFrame(data.target)\n",
    "y = y.iloc[:,0]\n",
    "\n",
    "print(x.head())\n",
    "print(y[:5])\n"
   ]
  },
  {
   "cell_type": "markdown",
   "metadata": {},
   "source": [
    "## Split the dataset into training and testing sets"
   ]
  },
  {
   "cell_type": "code",
   "execution_count": 2,
   "metadata": {},
   "outputs": [],
   "source": [
    "#split the dataset\n",
    "\n",
    "from sklearn.model_selection import train_test_split\n",
    "\n",
    "x_train, x_test, y_train, y_test = train_test_split(x, y, test_size = 0.2, random_state = 42)"
   ]
  },
  {
   "cell_type": "markdown",
   "metadata": {},
   "source": [
    "## Search Space for Hyperparameter Tuning"
   ]
  },
  {
   "cell_type": "code",
   "execution_count": 3,
   "metadata": {},
   "outputs": [
    {
     "name": "stdout",
     "output_type": "stream",
     "text": [
      "{'max_depth': [1, 3, 5, 7, 9, 11], 'min_samples_split': [2, 12, 22, 32, 42, 52, 62, 72, 82, 92], 'min_samples_leaf': [1, 11, 21, 31, 41, 51, 61, 71, 81, 91]}\n"
     ]
    }
   ],
   "source": [
    "params = dict()\n",
    "# max depth list from 1 to 20\n",
    "params['max_depth'] = list(range(1, 12, 2))\n",
    "params['min_samples_split'] = list(range(2, 102, 10))\n",
    "params['min_samples_leaf'] = list(range(1, 101, 10))\n",
    "print(params)"
   ]
  },
  {
   "cell_type": "markdown",
   "metadata": {},
   "source": [
    "## K-Fold Cross Validation"
   ]
  },
  {
   "cell_type": "code",
   "execution_count": 4,
   "metadata": {},
   "outputs": [],
   "source": [
    "from sklearn.model_selection import cross_val_score, RepeatedStratifiedKFold, KFold\n",
    "\n",
    "# cv = RepeatedStratifiedKFold(n_splits=5, n_repeats=5, random_state=1)\n",
    "cv = KFold(n_splits=10, shuffle=True, random_state=1)"
   ]
  },
  {
   "cell_type": "markdown",
   "metadata": {},
   "source": [
    "## Initialize Optimizer"
   ]
  },
  {
   "cell_type": "code",
   "execution_count": 5,
   "metadata": {},
   "outputs": [],
   "source": [
    "from sklearn.tree import DecisionTreeRegressor\n",
    "from sklearn.model_selection import GridSearchCV\n",
    "\n",
    "clf = DecisionTreeRegressor(random_state=42)\n",
    "search = GridSearchCV(estimator=clf, param_grid=params, cv=5, scoring='r2', verbose=0, n_jobs=-1)\n",
    "\n",
    "from my_tree import CustomDecisionTreeRegressor\n",
    "from fast_parameter_search import MyGridSearchCV\n",
    "\n",
    "my_clf = CustomDecisionTreeRegressor()\n",
    "\n",
    "my_search = MyGridSearchCV(my_clf, params, cv=cv, n_jobs=-1)\n"
   ]
  },
  {
   "cell_type": "markdown",
   "metadata": {},
   "source": [
    "## Results"
   ]
  },
  {
   "cell_type": "code",
   "execution_count": 14,
   "metadata": {},
   "outputs": [
    {
     "name": "stdout",
     "output_type": "stream",
     "text": [
      "Scikit Learn Decision Tree\n",
      "Best score 0.35090510941645536\n",
      "Best parameters {'max_depth': 3, 'min_samples_leaf': 51, 'min_samples_split': 2}\n",
      "Time taken to fit the scikit model 2.0333940982818604\n",
      "Custom Decision Tree\n",
      "Best score 0.34467539052044505\n",
      "Best parameters {'max_depth': 7, 'min_samples_split': 62, 'min_samples_leaf': 1}\n",
      "Time taken to fit the custom model 100.95859003067017\n"
     ]
    }
   ],
   "source": [
    "import time\n",
    "start = time.time()\n",
    "#Scikit Learn Decision Tree\n",
    "search.fit(x_train, y_train)\n",
    "end = time.time()\n",
    "print(\"Scikit Learn Decision Tree\")\n",
    "print(\"Best score\", search.best_score_)\n",
    "print(\"Best parameters\", search.best_params_)\n",
    "print(\"Time taken to fit the scikit model\", end-start)\n",
    "\n",
    "# My Decision Tree\n",
    "# Time how long it takes to fit the model\n",
    "start = time.time()\n",
    "my_search.fit(x_train, y_train)\n",
    "end = time.time()\n",
    "print(\"Custom Decision Tree\")\n",
    "print(\"Best score\", my_search.best_score)\n",
    "print(\"Best parameters\", my_search.best_params)\n",
    "print(\"Time taken to fit the custom model\", end-start)\n",
    "\n"
   ]
  },
  {
   "cell_type": "markdown",
   "metadata": {},
   "source": [
    "## Test the Models"
   ]
  },
  {
   "cell_type": "code",
   "execution_count": 15,
   "metadata": {},
   "outputs": [
    {
     "name": "stdout",
     "output_type": "stream",
     "text": [
      "R2 score scikit regression tree: 0.3666575524702239\n",
      "R2 score custom regression tree: 0.40531738249073135\n"
     ]
    }
   ],
   "source": [
    "from sklearn.metrics import r2_score\n",
    "from sklearn.metrics import confusion_matrix\n",
    "import seaborn as sns\n",
    "import matplotlib.pyplot as plt\n",
    "# Get the best estimator\n",
    "best = search.best_estimator_\n",
    "# Fit the model\n",
    "best.fit(x_train, y_train)\n",
    "# Predict the test data\n",
    "y_pred = best.predict(x_test)\n",
    "# Get model score\n",
    "score = r2_score(y_test, y_pred)\n",
    "print(f\"R2 score scikit regression tree: {score}\")\n",
    "\n",
    "best_custom = my_search.best_estimator\n",
    "best_custom.fit(x_train, y_train)\n",
    "y_pred = best_custom.predict(x_test)\n",
    "score_custom = r2_score(y_test, y_pred)\n",
    "print(f\"R2 score custom regression tree: {score_custom}\")"
   ]
  }
 ],
 "metadata": {
  "kernelspec": {
   "display_name": "Python 3",
   "language": "python",
   "name": "python3"
  },
  "language_info": {
   "codemirror_mode": {
    "name": "ipython",
    "version": 3
   },
   "file_extension": ".py",
   "mimetype": "text/x-python",
   "name": "python",
   "nbconvert_exporter": "python",
   "pygments_lexer": "ipython3",
   "version": "3.11.2"
  }
 },
 "nbformat": 4,
 "nbformat_minor": 2
}
