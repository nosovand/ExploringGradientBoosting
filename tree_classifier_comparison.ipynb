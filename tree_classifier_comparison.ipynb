{
 "cells": [
  {
   "cell_type": "markdown",
   "metadata": {},
   "source": [
    "## Compare the performance of the scikit and the custom decision tree classifiers\n",
    "\n",
    "Tested on the Wine Quality dataset from UCI Machine Learning Repository. https://archive.ics.uci.edu/ml/datasets/wine+quality"
   ]
  },
  {
   "cell_type": "markdown",
   "metadata": {},
   "source": [
    "## Import of the dataset"
   ]
  },
  {
   "cell_type": "code",
   "execution_count": 1,
   "metadata": {},
   "outputs": [
    {
     "name": "stdout",
     "output_type": "stream",
     "text": [
      "Dataset Classes:\n",
      "[5 6 7 4 8 3]\n"
     ]
    },
    {
     "data": {
      "text/html": [
       "<div>\n",
       "<style scoped>\n",
       "    .dataframe tbody tr th:only-of-type {\n",
       "        vertical-align: middle;\n",
       "    }\n",
       "\n",
       "    .dataframe tbody tr th {\n",
       "        vertical-align: top;\n",
       "    }\n",
       "\n",
       "    .dataframe thead th {\n",
       "        text-align: right;\n",
       "    }\n",
       "</style>\n",
       "<table border=\"1\" class=\"dataframe\">\n",
       "  <thead>\n",
       "    <tr style=\"text-align: right;\">\n",
       "      <th></th>\n",
       "      <th>fixed acidity</th>\n",
       "      <th>volatile acidity</th>\n",
       "      <th>citric acid</th>\n",
       "      <th>residual sugar</th>\n",
       "      <th>chlorides</th>\n",
       "      <th>free sulfur dioxide</th>\n",
       "      <th>total sulfur dioxide</th>\n",
       "      <th>density</th>\n",
       "      <th>pH</th>\n",
       "      <th>sulphates</th>\n",
       "      <th>alcohol</th>\n",
       "      <th>quality</th>\n",
       "    </tr>\n",
       "  </thead>\n",
       "  <tbody>\n",
       "    <tr>\n",
       "      <th>0</th>\n",
       "      <td>7.4</td>\n",
       "      <td>0.700</td>\n",
       "      <td>0.00</td>\n",
       "      <td>1.9</td>\n",
       "      <td>0.076</td>\n",
       "      <td>11.0</td>\n",
       "      <td>34.0</td>\n",
       "      <td>0.99780</td>\n",
       "      <td>3.51</td>\n",
       "      <td>0.56</td>\n",
       "      <td>9.4</td>\n",
       "      <td>5</td>\n",
       "    </tr>\n",
       "    <tr>\n",
       "      <th>1</th>\n",
       "      <td>7.8</td>\n",
       "      <td>0.880</td>\n",
       "      <td>0.00</td>\n",
       "      <td>2.6</td>\n",
       "      <td>0.098</td>\n",
       "      <td>25.0</td>\n",
       "      <td>67.0</td>\n",
       "      <td>0.99680</td>\n",
       "      <td>3.20</td>\n",
       "      <td>0.68</td>\n",
       "      <td>9.8</td>\n",
       "      <td>5</td>\n",
       "    </tr>\n",
       "    <tr>\n",
       "      <th>2</th>\n",
       "      <td>7.8</td>\n",
       "      <td>0.760</td>\n",
       "      <td>0.04</td>\n",
       "      <td>2.3</td>\n",
       "      <td>0.092</td>\n",
       "      <td>15.0</td>\n",
       "      <td>54.0</td>\n",
       "      <td>0.99700</td>\n",
       "      <td>3.26</td>\n",
       "      <td>0.65</td>\n",
       "      <td>9.8</td>\n",
       "      <td>5</td>\n",
       "    </tr>\n",
       "    <tr>\n",
       "      <th>3</th>\n",
       "      <td>11.2</td>\n",
       "      <td>0.280</td>\n",
       "      <td>0.56</td>\n",
       "      <td>1.9</td>\n",
       "      <td>0.075</td>\n",
       "      <td>17.0</td>\n",
       "      <td>60.0</td>\n",
       "      <td>0.99800</td>\n",
       "      <td>3.16</td>\n",
       "      <td>0.58</td>\n",
       "      <td>9.8</td>\n",
       "      <td>6</td>\n",
       "    </tr>\n",
       "    <tr>\n",
       "      <th>4</th>\n",
       "      <td>7.4</td>\n",
       "      <td>0.700</td>\n",
       "      <td>0.00</td>\n",
       "      <td>1.9</td>\n",
       "      <td>0.076</td>\n",
       "      <td>11.0</td>\n",
       "      <td>34.0</td>\n",
       "      <td>0.99780</td>\n",
       "      <td>3.51</td>\n",
       "      <td>0.56</td>\n",
       "      <td>9.4</td>\n",
       "      <td>5</td>\n",
       "    </tr>\n",
       "    <tr>\n",
       "      <th>...</th>\n",
       "      <td>...</td>\n",
       "      <td>...</td>\n",
       "      <td>...</td>\n",
       "      <td>...</td>\n",
       "      <td>...</td>\n",
       "      <td>...</td>\n",
       "      <td>...</td>\n",
       "      <td>...</td>\n",
       "      <td>...</td>\n",
       "      <td>...</td>\n",
       "      <td>...</td>\n",
       "      <td>...</td>\n",
       "    </tr>\n",
       "    <tr>\n",
       "      <th>1594</th>\n",
       "      <td>6.2</td>\n",
       "      <td>0.600</td>\n",
       "      <td>0.08</td>\n",
       "      <td>2.0</td>\n",
       "      <td>0.090</td>\n",
       "      <td>32.0</td>\n",
       "      <td>44.0</td>\n",
       "      <td>0.99490</td>\n",
       "      <td>3.45</td>\n",
       "      <td>0.58</td>\n",
       "      <td>10.5</td>\n",
       "      <td>5</td>\n",
       "    </tr>\n",
       "    <tr>\n",
       "      <th>1595</th>\n",
       "      <td>5.9</td>\n",
       "      <td>0.550</td>\n",
       "      <td>0.10</td>\n",
       "      <td>2.2</td>\n",
       "      <td>0.062</td>\n",
       "      <td>39.0</td>\n",
       "      <td>51.0</td>\n",
       "      <td>0.99512</td>\n",
       "      <td>3.52</td>\n",
       "      <td>0.76</td>\n",
       "      <td>11.2</td>\n",
       "      <td>6</td>\n",
       "    </tr>\n",
       "    <tr>\n",
       "      <th>1596</th>\n",
       "      <td>6.3</td>\n",
       "      <td>0.510</td>\n",
       "      <td>0.13</td>\n",
       "      <td>2.3</td>\n",
       "      <td>0.076</td>\n",
       "      <td>29.0</td>\n",
       "      <td>40.0</td>\n",
       "      <td>0.99574</td>\n",
       "      <td>3.42</td>\n",
       "      <td>0.75</td>\n",
       "      <td>11.0</td>\n",
       "      <td>6</td>\n",
       "    </tr>\n",
       "    <tr>\n",
       "      <th>1597</th>\n",
       "      <td>5.9</td>\n",
       "      <td>0.645</td>\n",
       "      <td>0.12</td>\n",
       "      <td>2.0</td>\n",
       "      <td>0.075</td>\n",
       "      <td>32.0</td>\n",
       "      <td>44.0</td>\n",
       "      <td>0.99547</td>\n",
       "      <td>3.57</td>\n",
       "      <td>0.71</td>\n",
       "      <td>10.2</td>\n",
       "      <td>5</td>\n",
       "    </tr>\n",
       "    <tr>\n",
       "      <th>1598</th>\n",
       "      <td>6.0</td>\n",
       "      <td>0.310</td>\n",
       "      <td>0.47</td>\n",
       "      <td>3.6</td>\n",
       "      <td>0.067</td>\n",
       "      <td>18.0</td>\n",
       "      <td>42.0</td>\n",
       "      <td>0.99549</td>\n",
       "      <td>3.39</td>\n",
       "      <td>0.66</td>\n",
       "      <td>11.0</td>\n",
       "      <td>6</td>\n",
       "    </tr>\n",
       "  </tbody>\n",
       "</table>\n",
       "<p>1599 rows × 12 columns</p>\n",
       "</div>"
      ],
      "text/plain": [
       "      fixed acidity  volatile acidity  citric acid  residual sugar  chlorides  \\\n",
       "0               7.4             0.700         0.00             1.9      0.076   \n",
       "1               7.8             0.880         0.00             2.6      0.098   \n",
       "2               7.8             0.760         0.04             2.3      0.092   \n",
       "3              11.2             0.280         0.56             1.9      0.075   \n",
       "4               7.4             0.700         0.00             1.9      0.076   \n",
       "...             ...               ...          ...             ...        ...   \n",
       "1594            6.2             0.600         0.08             2.0      0.090   \n",
       "1595            5.9             0.550         0.10             2.2      0.062   \n",
       "1596            6.3             0.510         0.13             2.3      0.076   \n",
       "1597            5.9             0.645         0.12             2.0      0.075   \n",
       "1598            6.0             0.310         0.47             3.6      0.067   \n",
       "\n",
       "      free sulfur dioxide  total sulfur dioxide  density    pH  sulphates  \\\n",
       "0                    11.0                  34.0  0.99780  3.51       0.56   \n",
       "1                    25.0                  67.0  0.99680  3.20       0.68   \n",
       "2                    15.0                  54.0  0.99700  3.26       0.65   \n",
       "3                    17.0                  60.0  0.99800  3.16       0.58   \n",
       "4                    11.0                  34.0  0.99780  3.51       0.56   \n",
       "...                   ...                   ...      ...   ...        ...   \n",
       "1594                 32.0                  44.0  0.99490  3.45       0.58   \n",
       "1595                 39.0                  51.0  0.99512  3.52       0.76   \n",
       "1596                 29.0                  40.0  0.99574  3.42       0.75   \n",
       "1597                 32.0                  44.0  0.99547  3.57       0.71   \n",
       "1598                 18.0                  42.0  0.99549  3.39       0.66   \n",
       "\n",
       "      alcohol  quality  \n",
       "0         9.4        5  \n",
       "1         9.8        5  \n",
       "2         9.8        5  \n",
       "3         9.8        6  \n",
       "4         9.4        5  \n",
       "...       ...      ...  \n",
       "1594     10.5        5  \n",
       "1595     11.2        6  \n",
       "1596     11.0        6  \n",
       "1597     10.2        5  \n",
       "1598     11.0        6  \n",
       "\n",
       "[1599 rows x 12 columns]"
      ]
     },
     "execution_count": 1,
     "metadata": {},
     "output_type": "execute_result"
    }
   ],
   "source": [
    "import pandas as pd\n",
    "\n",
    "data = pd.read_csv('datasets/winequality-red.csv')\n",
    "print(\"Dataset Classes:\")\n",
    "print(data.iloc[:,-1].unique())\n",
    "data"
   ]
  },
  {
   "cell_type": "markdown",
   "metadata": {},
   "source": [
    "## Split the dataset into training and testing sets"
   ]
  },
  {
   "cell_type": "code",
   "execution_count": 2,
   "metadata": {},
   "outputs": [],
   "source": [
    "from sklearn.model_selection import train_test_split\n",
    "\n",
    "x = data.drop(columns=\"quality\")\n",
    "y = data[\"quality\"]\n",
    "\n",
    "x_train, x_test, y_train, y_test = train_test_split(x, y, test_size = 0.2, random_state = 42)"
   ]
  },
  {
   "cell_type": "markdown",
   "metadata": {},
   "source": [
    "# Comparison of the performance of the tree classifiers\n",
    "### 1) Compare on predefined parameters"
   ]
  },
  {
   "cell_type": "code",
   "execution_count": 3,
   "metadata": {},
   "outputs": [
    {
     "name": "stdout",
     "output_type": "stream",
     "text": [
      "Tree Classifier Comparison for overfit parameters\n",
      "------------------------------------------------------\n",
      "Scikit-learn model accuracy on test data:         0.56\n",
      "Scikit-learn model accuracy on training data:     1.00\n",
      "Custom model accuracy on test data:               0.57\n",
      "Custom model accuracy on training data:           1.00\n"
     ]
    }
   ],
   "source": [
    "from sklearn.tree import DecisionTreeClassifier\n",
    "from algorithms.tree import CustomDecisionTreeClassifier\n",
    "\n",
    "print(\"Tree Classifier Comparison for overfit parameters\")\n",
    "print(\"------------------------------------------------------\")\n",
    "\n",
    "# Default tree (no specified parameters)\n",
    "scikit_model = DecisionTreeClassifier(max_depth=100, min_samples_split=2, min_samples_leaf=1, random_state=42)\n",
    "scikit_model.fit(x_train, y_train)\n",
    "scikit_score = scikit_model.score(x_test, y_test)\n",
    "print(\"Scikit-learn model accuracy on test data:        \", \"{:.2f}\".format(scikit_score))\n",
    "scikit_train_score = scikit_model.score(x_train, y_train)\n",
    "print(\"Scikit-learn model accuracy on training data:    \", \"{:.2f}\".format(scikit_train_score))\n",
    "\n",
    "# Custom tree (no specified parameters)\n",
    "custom_model = CustomDecisionTreeClassifier(max_depth=100, min_samples_split=2, min_samples_leaf=1)\n",
    "custom_model.fit(x_train, y_train)\n",
    "custom_score = custom_model.score(x_test, y_test)\n",
    "print(\"Custom model accuracy on test data:              \", \"{:.2f}\".format(custom_score))\n",
    "custom_train_score = custom_model.score(x_train, y_train)\n",
    "print(\"Custom model accuracy on training data:          \", \"{:.2f}\".format(custom_train_score))\n"
   ]
  },
  {
   "cell_type": "code",
   "execution_count": 11,
   "metadata": {},
   "outputs": [
    {
     "name": "stdout",
     "output_type": "stream",
     "text": [
      "Tree Classifier Comparison for random parameters\n",
      "------------------------------------------------------\n",
      "max_depth=3, min_samples_split=3, min_samples_leaf=5\n",
      "------------------------------------------------------\n",
      "Scikit-learn model accuracy on test data:         0.53\n",
      "Scikit-learn model accuracy on training data:     0.56\n",
      "Custom model accuracy on test data:               0.53\n",
      "Custom model accuracy on training data:           0.56\n"
     ]
    }
   ],
   "source": [
    "print(\"Tree Classifier Comparison for random parameters\")\n",
    "print(\"------------------------------------------------------\")\n",
    "print(\"max_depth=2, min_samples_split=3, min_samples_leaf=4\")\n",
    "print(\"------------------------------------------------------\")\n",
    "\n",
    "# Default tree (random parameters)\n",
    "scikit_model = DecisionTreeClassifier(max_depth=2, min_samples_split=3, min_samples_leaf=4, random_state=42)\n",
    "scikit_model.fit(x_train, y_train)\n",
    "scikit_score = scikit_model.score(x_test, y_test)\n",
    "print(\"Scikit-learn model accuracy on test data:        \", \"{:.2f}\".format(scikit_score))\n",
    "scikit_train_score = scikit_model.score(x_train, y_train)\n",
    "print(\"Scikit-learn model accuracy on training data:    \", \"{:.2f}\".format(scikit_train_score))\n",
    "\n",
    "# Custom tree (random parameters)\n",
    "custom_model = CustomDecisionTreeClassifier(max_depth=2, min_samples_split=3, min_samples_leaf=4)\n",
    "custom_model.fit(x_train, y_train)\n",
    "custom_score = custom_model.score(x_test, y_test)\n",
    "print(\"Custom model accuracy on test data:              \", \"{:.2f}\".format(custom_score))\n",
    "custom_train_score = custom_model.score(x_train, y_train)\n",
    "print(\"Custom model accuracy on training data:          \", \"{:.2f}\".format(custom_train_score))\n"
   ]
  },
  {
   "cell_type": "markdown",
   "metadata": {},
   "source": [
    "### 2) Compare on the best parameters obtained by hyperparameter tuning"
   ]
  },
  {
   "cell_type": "markdown",
   "metadata": {},
   "source": [
    "#### Hyperparameter space"
   ]
  },
  {
   "cell_type": "code",
   "execution_count": 5,
   "metadata": {},
   "outputs": [
    {
     "name": "stdout",
     "output_type": "stream",
     "text": [
      "{'max_depth': [1, 2, 3, 4, 5, 6, 7, 8, 9, 10, 11, 12, 13, 14, 15, 16, 17, 18, 19, 20, 21, 22, 23, 24, 25, 26, 27, 28, 29, 30], 'min_samples_split': [2, 3, 4, 5, 6], 'min_samples_leaf': [1, 2, 3, 4, 5]}\n"
     ]
    }
   ],
   "source": [
    "params = dict()\n",
    "# max depth list from 1 to 20\n",
    "params['max_depth'] = list(range(1, 31))\n",
    "params['min_samples_split'] = list(range(2, 7))\n",
    "params['min_samples_leaf'] = list(range(1, 6))\n",
    "print(params)"
   ]
  },
  {
   "cell_type": "markdown",
   "metadata": {},
   "source": [
    "#### K-Fold Cross Validation"
   ]
  },
  {
   "cell_type": "code",
   "execution_count": 6,
   "metadata": {},
   "outputs": [],
   "source": [
    "from sklearn.model_selection import cross_val_score, RepeatedStratifiedKFold\n",
    "\n",
    "cv = RepeatedStratifiedKFold(n_splits=5, n_repeats=3, random_state=1)"
   ]
  },
  {
   "cell_type": "markdown",
   "metadata": {},
   "source": [
    "#### Initialize Optimizer"
   ]
  },
  {
   "cell_type": "code",
   "execution_count": 7,
   "metadata": {},
   "outputs": [],
   "source": [
    "from sklearn.model_selection import GridSearchCV\n",
    "from algorithms.fast_parameter_search import MyGridSearchCV\n",
    "\n",
    "scikit_clf = DecisionTreeClassifier()\n",
    "scikit_params = params.copy()\n",
    "scikit_params['random_state'] = [42]\n",
    "scikit_search = GridSearchCV(estimator=scikit_clf, param_grid=scikit_params, cv=cv, scoring ='accuracy', verbose=0, n_jobs=-1)\n",
    "\n",
    "custom_clf = CustomDecisionTreeClassifier()\n",
    "\n",
    "custom_search = MyGridSearchCV(custom_clf, params, cv=cv, n_jobs=-1)"
   ]
  },
  {
   "cell_type": "markdown",
   "metadata": {},
   "source": [
    "#### Results"
   ]
  },
  {
   "cell_type": "code",
   "execution_count": 8,
   "metadata": {},
   "outputs": [
    {
     "name": "stdout",
     "output_type": "stream",
     "text": [
      "Scikit Learn Decision Tree\n",
      "Best score 0.6067248774509804\n",
      "Best parameters {'max_depth': 21, 'min_samples_leaf': 1, 'min_samples_split': 2, 'random_state': 42}\n",
      "Custom Decision Tree\n",
      "Best score 0.6030810866013071\n",
      "Best parameters {'max_depth': 22, 'min_samples_split': 2, 'min_samples_leaf': 1}\n"
     ]
    }
   ],
   "source": [
    "#Scikit Learn Decision Tree\n",
    "scikit_search.fit(x_train, y_train)\n",
    "print(\"Scikit Learn Decision Tree\")\n",
    "print(\"Best score\", scikit_search.best_score_)\n",
    "print(\"Best parameters\", scikit_search.best_params_)\n",
    "\n",
    "# Custom Decision Tree\n",
    "custom_search.fit(x_train, y_train)\n",
    "print(\"Custom Decision Tree\")\n",
    "print(\"Best score\", custom_search.best_score)\n",
    "print(\"Best parameters\", custom_search.best_params)"
   ]
  },
  {
   "cell_type": "code",
   "execution_count": 9,
   "metadata": {},
   "outputs": [
    {
     "name": "stdout",
     "output_type": "stream",
     "text": [
      "Tree Classifier Comparison for best parameters\n",
      "------------------------------------------------------\n",
      "Scikit-learn model accuracy on test data:         0.56\n",
      "Custom model accuracy on test data:               0.57\n"
     ]
    }
   ],
   "source": [
    "from sklearn.metrics import accuracy_score\n",
    "\n",
    "best_scikit_model = scikit_search.best_estimator_\n",
    "best_scikit_model.fit(x_train, y_train)\n",
    "y_pred_scikit = best_scikit_model.predict(x_test)\n",
    "scikit_accuracy = accuracy_score(y_test, y_pred_scikit)\n",
    "\n",
    "best_custom_model = custom_search.best_estimator\n",
    "best_custom_model.fit(x_train, y_train)\n",
    "y_pred_custom = best_custom_model.predict(x_test)\n",
    "custom_accuracy = accuracy_score(y_test, y_pred_custom)\n",
    "\n",
    "print(\"Tree Classifier Comparison for best parameters\")\n",
    "print(\"------------------------------------------------------\")\n",
    "print(\"Scikit-learn model accuracy on test data:        \", \"{:.2f}\".format(scikit_accuracy))\n",
    "print(\"Custom model accuracy on test data:              \", \"{:.2f}\".format(custom_accuracy))\n",
    "\n"
   ]
  },
  {
   "cell_type": "code",
   "execution_count": 15,
   "metadata": {},
   "outputs": [
    {
     "data": {
      "image/png": "[encoded data removed]",
      "text/plain": [
       "<Figure size 1000x500 with 2 Axes>"
      ]
     },
     "metadata": {},
     "output_type": "display_data"
    }
   ],
   "source": [
    "# Plot confusion matrices of the two models next to each other\n",
    "\n",
    "from sklearn.metrics import confusion_matrix\n",
    "import seaborn as sns\n",
    "import matplotlib.pyplot as plt\n",
    "\n",
    "fig, axs = plt.subplots(1, 2, figsize=(10, 5))\n",
    "\n",
    "scikit_cm = confusion_matrix(y_test, y_pred_scikit)\n",
    "sns.heatmap(scikit_cm, annot=True, fmt='d', ax=axs[0], cmap=\"magma\", cbar=False)\n",
    "axs[0].set_title('Scikit-learn Decision Tree')\n",
    "axs[0].set_xlabel('Predicted')\n",
    "axs[0].set_ylabel('True')\n",
    "\n",
    "custom_cm = confusion_matrix(y_test, y_pred_custom)\n",
    "sns.heatmap(custom_cm, annot=True, fmt='d', ax=axs[1], cmap=\"magma\", cbar=False)\n",
    "axs[1].set_title('Custom Decision Tree')\n",
    "axs[1].set_xlabel('Predicted')\n",
    "axs[1].set_ylabel('True')\n",
    "\n",
    "plt.show()"
   ]
  }
 ],
 "metadata": {
  "language_info": {
   "name": "python"
  }
 },
 "nbformat": 4,
 "nbformat_minor": 2
}
